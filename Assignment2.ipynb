{
 "cells": [
  {
   "cell_type": "code",
   "execution_count": 1,
   "metadata": {},
   "outputs": [],
   "source": [
    "#!wget https://raw.githubusercontent.com/cacoderquan/Sentiment-Analysis-on-the-Rotten-Tomatoes-movie-review-dataset/master/train.tsv"
   ]
  },
  {
   "cell_type": "code",
   "execution_count": 2,
   "metadata": {},
   "outputs": [],
   "source": [
    "#load library\n",
    "import pandas as pd"
   ]
  },
  {
   "cell_type": "code",
   "execution_count": 3,
   "metadata": {},
   "outputs": [
    {
     "data": {
      "text/html": [
       "<div>\n",
       "<style scoped>\n",
       "    .dataframe tbody tr th:only-of-type {\n",
       "        vertical-align: middle;\n",
       "    }\n",
       "\n",
       "    .dataframe tbody tr th {\n",
       "        vertical-align: top;\n",
       "    }\n",
       "\n",
       "    .dataframe thead th {\n",
       "        text-align: right;\n",
       "    }\n",
       "</style>\n",
       "<table border=\"1\" class=\"dataframe\">\n",
       "  <thead>\n",
       "    <tr style=\"text-align: right;\">\n",
       "      <th></th>\n",
       "      <th>PhraseId</th>\n",
       "      <th>SentenceId</th>\n",
       "      <th>Phrase</th>\n",
       "      <th>Sentiment</th>\n",
       "    </tr>\n",
       "  </thead>\n",
       "  <tbody>\n",
       "    <tr>\n",
       "      <th>0</th>\n",
       "      <td>1</td>\n",
       "      <td>1</td>\n",
       "      <td>A series of escapades demonstrating the adage ...</td>\n",
       "      <td>1</td>\n",
       "    </tr>\n",
       "    <tr>\n",
       "      <th>1</th>\n",
       "      <td>2</td>\n",
       "      <td>1</td>\n",
       "      <td>A series of escapades demonstrating the adage ...</td>\n",
       "      <td>2</td>\n",
       "    </tr>\n",
       "    <tr>\n",
       "      <th>2</th>\n",
       "      <td>3</td>\n",
       "      <td>1</td>\n",
       "      <td>A series</td>\n",
       "      <td>2</td>\n",
       "    </tr>\n",
       "    <tr>\n",
       "      <th>3</th>\n",
       "      <td>4</td>\n",
       "      <td>1</td>\n",
       "      <td>A</td>\n",
       "      <td>2</td>\n",
       "    </tr>\n",
       "    <tr>\n",
       "      <th>4</th>\n",
       "      <td>5</td>\n",
       "      <td>1</td>\n",
       "      <td>series</td>\n",
       "      <td>2</td>\n",
       "    </tr>\n",
       "    <tr>\n",
       "      <th>5</th>\n",
       "      <td>6</td>\n",
       "      <td>1</td>\n",
       "      <td>of escapades demonstrating the adage that what...</td>\n",
       "      <td>2</td>\n",
       "    </tr>\n",
       "    <tr>\n",
       "      <th>6</th>\n",
       "      <td>7</td>\n",
       "      <td>1</td>\n",
       "      <td>of</td>\n",
       "      <td>2</td>\n",
       "    </tr>\n",
       "    <tr>\n",
       "      <th>7</th>\n",
       "      <td>8</td>\n",
       "      <td>1</td>\n",
       "      <td>escapades demonstrating the adage that what is...</td>\n",
       "      <td>2</td>\n",
       "    </tr>\n",
       "    <tr>\n",
       "      <th>8</th>\n",
       "      <td>9</td>\n",
       "      <td>1</td>\n",
       "      <td>escapades</td>\n",
       "      <td>2</td>\n",
       "    </tr>\n",
       "    <tr>\n",
       "      <th>9</th>\n",
       "      <td>10</td>\n",
       "      <td>1</td>\n",
       "      <td>demonstrating the adage that what is good for ...</td>\n",
       "      <td>2</td>\n",
       "    </tr>\n",
       "  </tbody>\n",
       "</table>\n",
       "</div>"
      ],
      "text/plain": [
       "   PhraseId  SentenceId                                             Phrase  \\\n",
       "0         1           1  A series of escapades demonstrating the adage ...   \n",
       "1         2           1  A series of escapades demonstrating the adage ...   \n",
       "2         3           1                                           A series   \n",
       "3         4           1                                                  A   \n",
       "4         5           1                                             series   \n",
       "5         6           1  of escapades demonstrating the adage that what...   \n",
       "6         7           1                                                 of   \n",
       "7         8           1  escapades demonstrating the adage that what is...   \n",
       "8         9           1                                          escapades   \n",
       "9        10           1  demonstrating the adage that what is good for ...   \n",
       "\n",
       "   Sentiment  \n",
       "0          1  \n",
       "1          2  \n",
       "2          2  \n",
       "3          2  \n",
       "4          2  \n",
       "5          2  \n",
       "6          2  \n",
       "7          2  \n",
       "8          2  \n",
       "9          2  "
      ]
     },
     "execution_count": 3,
     "metadata": {},
     "output_type": "execute_result"
    }
   ],
   "source": [
    "# reading dataset\n",
    "df = pd.read_csv('train.tsv',sep='\\t')\n",
    "df.head(10)"
   ]
  },
  {
   "cell_type": "code",
   "execution_count": 4,
   "metadata": {},
   "outputs": [],
   "source": [
    "# Splitting the data into train and test\n",
    "from sklearn.model_selection import train_test_split\n",
    "train_csv,val_csv = train_test_split(df,test_size=0.3,random_state=2003)\n",
    "train_csv.to_csv('train.csv',index=False)\n",
    "val_csv.to_csv('validation.csv',index=False)"
   ]
  },
  {
   "cell_type": "code",
   "execution_count": 18,
   "metadata": {},
   "outputs": [],
   "source": [
    "import torch\n",
    "import torch.nn as nn\n",
    "import torch.nn.functional as F\n",
    "import torchtext\n",
    "from torchtext.data import Field,LabelField\n",
    "import matplotlib.pyplot as plt\n",
    "import seaborn as sns\n",
    "from livelossplot import PlotLossesPoutyne"
   ]
  },
  {
   "cell_type": "code",
   "execution_count": 6,
   "metadata": {},
   "outputs": [
    {
     "data": {
      "image/png": "[encoded data removed]",
      "text/plain": [
       "<Figure size 432x288 with 1 Axes>"
      ]
     },
     "metadata": {
      "needs_background": "light"
     },
     "output_type": "display_data"
    }
   ],
   "source": [
    "# Plot distibution\n",
    "sns.countplot('Sentiment',data=df).get_figure().savefig('dist')"
   ]
  },
  {
   "cell_type": "code",
   "execution_count": 7,
   "metadata": {},
   "outputs": [],
   "source": [
    "# Label and text beild\n",
    "TEXT = Field(sequential=True,use_vocab=True,lower=True,tokenize='spacy',tokenizer_language='en',batch_first=True,fix_length=53,init_token='SOS',eos_token='EOS'\n",
    "             ,preprocessing=lambda x: ['SOS'] + x +['EOS'])\n",
    "LABEL = LabelField(batch_first=True)"
   ]
  },
  {
   "cell_type": "code",
   "execution_count": 8,
   "metadata": {},
   "outputs": [],
   "source": [
    "train_data,valid_data = torchtext.data.TabularDataset.splits('.',train='train.csv',validation='validation.csv',format='CSV',fields=[('PhraseId',None),('SentenceId',None),('Phrase',TEXT),('Sentiment',LABEL)],skip_header=True)"
   ]
  },
  {
   "cell_type": "code",
   "execution_count": 9,
   "metadata": {},
   "outputs": [],
   "source": [
    "# TEXT.build_vocab(train_data, vectors=torchtext.vocab.Vectors(\"../input/embeddings/glove.840B.300d/glove.840B.300d.txt\"), \n",
    "#                  max_size=20000, min_freq=10)\n",
    "# Building Vocab from train set\n",
    "TEXT.build_vocab(train_data,min_freq=3,vectors='glove.6B.50d')"
   ]
  },
  {
   "cell_type": "code",
   "execution_count": 10,
   "metadata": {},
   "outputs": [],
   "source": [
    "# build vocab\n",
    "LABEL.build_vocab(train_data)"
   ]
  },
  {
   "cell_type": "code",
   "execution_count": 11,
   "metadata": {},
   "outputs": [],
   "source": [
    "# Building Iteator \n",
    "from torchtext.data import Iterator, BucketIterator\n",
    "bs=128\n",
    "train_data_iterator = Iterator(train_data,batch_size=bs,train=True,shuffle=True,device='cuda')\n",
    "val_data_iterator = Iterator(valid_data,batch_size=2*bs,train=True,shuffle=False,device='cuda')"
   ]
  },
  {
   "cell_type": "code",
   "execution_count": 12,
   "metadata": {},
   "outputs": [
    {
     "data": {
      "text/plain": [
       "(1, '<pad>')"
      ]
     },
     "execution_count": 12,
     "metadata": {},
     "output_type": "execute_result"
    }
   ],
   "source": [
    "# get index of pad token so that we do not calculate gradient for it\n",
    "PAD = TEXT.vocab.stoi['<pad>']\n",
    "TEXT.vocab.stoi['<pad>'],TEXT.vocab.itos[1]"
   ]
  },
  {
   "cell_type": "code",
   "execution_count": 13,
   "metadata": {},
   "outputs": [],
   "source": [
    "# Building the Model\n",
    "class Classifier(nn.Module):\n",
    "    def __init__(self, initial_num_channels, num_classes):\n",
    "        super(Classifier, self).__init__()\n",
    "        self.embedding = torch.nn.Embedding(len(TEXT.vocab),50,padding_idx=PAD)\n",
    "        self.convnet = nn.Sequential(\n",
    "            nn.Conv1d(in_channels=initial_num_channels, \n",
    "                      out_channels=64, kernel_size=3),\n",
    "            nn.ELU(),\n",
    "            nn.Conv1d(in_channels=64, out_channels=100, \n",
    "                      kernel_size=3, stride=2),\n",
    "            nn.ELU(),\n",
    "            nn.Conv1d(in_channels=100, out_channels=128, \n",
    "                      kernel_size=3, stride=2),\n",
    "            nn.ELU(),\n",
    "            nn.Conv1d(in_channels=128, out_channels=150, \n",
    "                      kernel_size=3),\n",
    "            nn.ELU(),\n",
    "            nn.Conv1d(in_channels=150, out_channels=200, \n",
    "                      kernel_size=3,stride=2),\n",
    "            nn.ELU(),\n",
    "            nn.Conv1d(in_channels=200, out_channels=256, \n",
    "                      kernel_size=3,stride=2),\n",
    "            nn.ELU(),\n",
    "        )\n",
    "        self.fc = nn.Linear(256, num_classes)\n",
    "\n",
    "    def forward(self, x, apply_softmax=False):\n",
    "        x = self.embedding(x)\n",
    "        features = self.convnet(x).squeeze(dim=2)\n",
    "        #print(features.shape)\n",
    "        prediction_vector = self.fc(features)\n",
    "\n",
    "        if apply_softmax:\n",
    "            prediction_vector = F.softmax(prediction_vector, dim=1)\n",
    "\n",
    "        return prediction_vector"
   ]
  },
  {
   "cell_type": "code",
   "execution_count": 14,
   "metadata": {},
   "outputs": [
    {
     "data": {
      "text/plain": [
       "Classifier(\n",
       "  (embedding): Embedding(15321, 50, padding_idx=1)\n",
       "  (convnet): Sequential(\n",
       "    (0): Conv1d(53, 64, kernel_size=(3,), stride=(1,))\n",
       "    (1): ELU(alpha=1.0)\n",
       "    (2): Conv1d(64, 100, kernel_size=(3,), stride=(2,))\n",
       "    (3): ELU(alpha=1.0)\n",
       "    (4): Conv1d(100, 128, kernel_size=(3,), stride=(2,))\n",
       "    (5): ELU(alpha=1.0)\n",
       "    (6): Conv1d(128, 150, kernel_size=(3,), stride=(1,))\n",
       "    (7): ELU(alpha=1.0)\n",
       "    (8): Conv1d(150, 200, kernel_size=(3,), stride=(2,))\n",
       "    (9): ELU(alpha=1.0)\n",
       "    (10): Conv1d(200, 256, kernel_size=(3,), stride=(2,))\n",
       "    (11): ELU(alpha=1.0)\n",
       "  )\n",
       "  (fc): Linear(in_features=256, out_features=5, bias=True)\n",
       ")"
      ]
     },
     "execution_count": 14,
     "metadata": {},
     "output_type": "execute_result"
    }
   ],
   "source": [
    "# Initialize Model\n",
    "m = Classifier(53,5)\n",
    "m"
   ]
  },
  {
   "cell_type": "code",
   "execution_count": 15,
   "metadata": {},
   "outputs": [
    {
     "data": {
      "text/plain": [
       "<poutyne.framework.model.Model at 0x7fc2f185cdd0>"
      ]
     },
     "execution_count": 15,
     "metadata": {},
     "output_type": "execute_result"
    }
   ],
   "source": [
    "from poutyne.framework import Model\n",
    "from poutyne.framework.metrics import FBeta,F1\n",
    "\n",
    "# Loading pretrained GLOVE Weights\n",
    "m.embedding.weights =TEXT.vocab.vectors\n",
    "\n",
    "# Defining Metrics, Loss and Optimizer\n",
    "model = Model(m,'ADAM',loss_function='cross_entropy',\n",
    "              batch_metrics=['accuracy'], epoch_metrics=[F1(),FBeta('recall'),FBeta('precision')],)\n",
    "model.to(0)"
   ]
  },
  {
   "cell_type": "code",
   "execution_count": 20,
   "metadata": {},
   "outputs": [
    {
     "data": {
      "image/png": "[encoded data removed]",
      "text/plain": [
       "<Figure size 864x1152 with 5 Axes>"
      ]
     },
     "metadata": {
      "needs_background": "light"
     },
     "output_type": "display_data"
    },
    {
     "name": "stdout",
     "output_type": "stream",
     "text": [
      "Accuracy\n",
      "\ttraining         \t (min:   51.754, max:   76.419, cur:   76.419)\n",
      "\tvalidation       \t (min:   53.422, max:   64.336, cur:   63.264)\n",
      "fscore_micro\n",
      "\ttraining         \t (min:    0.518, max:    0.764, cur:    0.764)\n",
      "\tvalidation       \t (min:    0.534, max:    0.643, cur:    0.633)\n",
      "Loss\n",
      "\ttraining         \t (min:    0.590, max:    1.214, cur:    0.590)\n",
      "\tvalidation       \t (min:    0.903, max:    1.171, cur:    0.992)\n",
      "precision_micro\n",
      "\ttraining         \t (min:    0.518, max:    0.764, cur:    0.764)\n",
      "\tvalidation       \t (min:    0.534, max:    0.643, cur:    0.633)\n",
      "recall_micro\n",
      "\ttraining         \t (min:    0.518, max:    0.764, cur:    0.764)\n",
      "\tvalidation       \t (min:    0.534, max:    0.643, cur:    0.633)\n"
     ]
    },
    {
     "data": {
      "text/plain": [
       "[{'epoch': 1,\n",
       "  'loss': 1.0126935464124438,\n",
       "  'time': 16.31806830200003,\n",
       "  'acc': 59.16314238015771,\n",
       "  'fscore_micro': 0.572611927986145,\n",
       "  'recall_micro': 0.572611927986145,\n",
       "  'precision_micro': 0.572611927986145,\n",
       "  'val_loss': 1.0111282942280713,\n",
       "  'val_acc': 58.82780127888116,\n",
       "  'val_fscore_micro': 0.5882779955863953,\n",
       "  'val_recall_micro': 0.5882779955863953,\n",
       "  'val_precision_micro': 0.5882779955863953},\n",
       " {'epoch': 2,\n",
       "  'loss': 0.9202123911072034,\n",
       "  'time': 16.35387742199964,\n",
       "  'acc': 62.717636074386654,\n",
       "  'fscore_micro': 0.6271763443946838,\n",
       "  'recall_micro': 0.6271763443946838,\n",
       "  'precision_micro': 0.6271763443946838,\n",
       "  'val_loss': 0.948788071255177,\n",
       "  'val_acc': 61.23713102971755,\n",
       "  'val_fscore_micro': 0.6123713254928589,\n",
       "  'val_recall_micro': 0.6123713254928589,\n",
       "  'val_precision_micro': 0.6123713254928589},\n",
       " {'epoch': 3,\n",
       "  'loss': 0.8568432826617495,\n",
       "  'time': 16.66841889599982,\n",
       "  'acc': 65.2908222094216,\n",
       "  'fscore_micro': 0.652908205986023,\n",
       "  'recall_micro': 0.652908205986023,\n",
       "  'precision_micro': 0.652908205986023,\n",
       "  'val_loss': 0.9228289045463169,\n",
       "  'val_acc': 62.3948054401861,\n",
       "  'val_fscore_micro': 0.6239480376243591,\n",
       "  'val_recall_micro': 0.6239480376243591,\n",
       "  'val_precision_micro': 0.6239480376243591},\n",
       " {'epoch': 4,\n",
       "  'loss': 0.8103237166100224,\n",
       "  'time': 16.480242335000185,\n",
       "  'acc': 67.10056571787946,\n",
       "  'fscore_micro': 0.6710056662559509,\n",
       "  'recall_micro': 0.6710056662559509,\n",
       "  'precision_micro': 0.6710056662559509,\n",
       "  'val_loss': 0.9217688874568122,\n",
       "  'val_acc': 63.3944209498594,\n",
       "  'val_fscore_micro': 0.6339442133903503,\n",
       "  'val_recall_micro': 0.6339442133903503,\n",
       "  'val_precision_micro': 0.6339442133903503},\n",
       " {'epoch': 5,\n",
       "  'loss': 0.7738933393108035,\n",
       "  'time': 16.319572667000102,\n",
       "  'acc': 68.5752732479503,\n",
       "  'fscore_micro': 0.6857527494430542,\n",
       "  'recall_micro': 0.6857527494430542,\n",
       "  'precision_micro': 0.6857527494430542,\n",
       "  'val_loss': 0.9206871387923796,\n",
       "  'val_acc': 63.86859756326975,\n",
       "  'val_fscore_micro': 0.6386860013008118,\n",
       "  'val_recall_micro': 0.6386860013008118,\n",
       "  'val_precision_micro': 0.6386860013008118},\n",
       " {'epoch': 6,\n",
       "  'loss': 0.739145825242737,\n",
       "  'time': 16.323776064000413,\n",
       "  'acc': 70.02160341065137,\n",
       "  'fscore_micro': 0.7002160549163818,\n",
       "  'recall_micro': 0.7002160549163818,\n",
       "  'precision_micro': 0.7002160549163818,\n",
       "  'val_loss': 0.9115082174940596,\n",
       "  'val_acc': 63.593062506781685,\n",
       "  'val_fscore_micro': 0.635930597782135,\n",
       "  'val_recall_micro': 0.635930597782135,\n",
       "  'val_precision_micro': 0.635930597782135},\n",
       " {'epoch': 7,\n",
       "  'loss': 0.7051873047061873,\n",
       "  'time': 16.36127512999974,\n",
       "  'acc': 71.29766939427584,\n",
       "  'fscore_micro': 0.7129766941070557,\n",
       "  'recall_micro': 0.7129766941070557,\n",
       "  'precision_micro': 0.7129766941070557,\n",
       "  'val_loss': 0.9032173796019676,\n",
       "  'val_acc': 64.3363663473247,\n",
       "  'val_fscore_micro': 0.6433636546134949,\n",
       "  'val_recall_micro': 0.6433636546134949,\n",
       "  'val_precision_micro': 0.6433636546134949},\n",
       " {'epoch': 8,\n",
       "  'loss': 0.6703289535461124,\n",
       "  'time': 16.17744216600022,\n",
       "  'acc': 73.01129602447023,\n",
       "  'fscore_micro': 0.7301129698753357,\n",
       "  'recall_micro': 0.7301129698753357,\n",
       "  'precision_micro': 0.7301129698753357,\n",
       "  'val_loss': 0.9433726799615888,\n",
       "  'val_acc': 63.800247777404095,\n",
       "  'val_fscore_micro': 0.6380024552345276,\n",
       "  'val_recall_micro': 0.6380024552345276,\n",
       "  'val_precision_micro': 0.6380024552345276},\n",
       " {'epoch': 9,\n",
       "  'loss': 0.6317836877907783,\n",
       "  'time': 16.354321949999758,\n",
       "  'acc': 74.63887515930308,\n",
       "  'fscore_micro': 0.7463887333869934,\n",
       "  'recall_micro': 0.7463887333869934,\n",
       "  'precision_micro': 0.7463887333869934,\n",
       "  'val_loss': 0.9493527092964821,\n",
       "  'val_acc': 64.04587978526159,\n",
       "  'val_fscore_micro': 0.6404588222503662,\n",
       "  'val_recall_micro': 0.6404588222503662,\n",
       "  'val_precision_micro': 0.6404588222503662},\n",
       " {'epoch': 10,\n",
       "  'loss': 0.5896137301464964,\n",
       "  'time': 16.348310684999888,\n",
       "  'acc': 76.41932589987572,\n",
       "  'fscore_micro': 0.7641932368278503,\n",
       "  'recall_micro': 0.7641932368278503,\n",
       "  'precision_micro': 0.7641932368278503,\n",
       "  'val_loss': 0.9921585625802454,\n",
       "  'val_acc': 63.26412918678775,\n",
       "  'val_fscore_micro': 0.6326413154602051,\n",
       "  'val_recall_micro': 0.6326413154602051,\n",
       "  'val_precision_micro': 0.6326413154602051}]"
      ]
     },
     "execution_count": 20,
     "metadata": {},
     "output_type": "execute_result"
    }
   ],
   "source": [
    "# Train\n",
    "model.fit_generator(train_data_iterator,val_data_iterator,epochs=10,callbacks=[PlotLossesPoutyne()],verbose=False)"
   ]
  },
  {
   "cell_type": "code",
   "execution_count": 22,
   "metadata": {},
   "outputs": [],
   "source": [
    "# File name of saved model\n",
    "filename = '1117021_1dconv_reg.pt'"
   ]
  },
  {
   "cell_type": "code",
   "execution_count": 21,
   "metadata": {},
   "outputs": [],
   "source": [
    "# save model\n",
    "#model.save_weights(filename)"
   ]
  },
  {
   "cell_type": "code",
   "execution_count": 23,
   "metadata": {},
   "outputs": [],
   "source": [
    "# Load model\n",
    "model.load_weights(filename)"
   ]
  },
  {
   "cell_type": "code",
   "execution_count": 24,
   "metadata": {},
   "outputs": [
    {
     "data": {
      "text/plain": [
       "(0.9921585625802454,\n",
       " array([63.26412919,  0.63264132,  0.63264132,  0.63264132]))"
      ]
     },
     "execution_count": 24,
     "metadata": {},
     "output_type": "execute_result"
    }
   ],
   "source": [
    "# Evalute\n",
    "model.evaluate_generator(val_data_iterator)"
   ]
  },
  {
   "cell_type": "code",
   "execution_count": null,
   "metadata": {},
   "outputs": [],
   "source": []
  }
 ],
 "metadata": {
  "kernelspec": {
   "display_name": "Python 3",
   "language": "python",
   "name": "python3"
  },
  "language_info": {
   "codemirror_mode": {
    "name": "ipython",
    "version": 3
   },
   "file_extension": ".py",
   "mimetype": "text/x-python",
   "name": "python",
   "nbconvert_exporter": "python",
   "pygments_lexer": "ipython3",
   "version": "3.7.4"
  }
 },
 "nbformat": 4,
 "nbformat_minor": 4
}
